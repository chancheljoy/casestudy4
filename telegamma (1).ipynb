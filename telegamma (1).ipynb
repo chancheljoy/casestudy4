{
  "nbformat": 4,
  "nbformat_minor": 0,
  "metadata": {
    "colab": {
      "provenance": []
    },
    "kernelspec": {
      "name": "python3",
      "display_name": "Python 3"
    },
    "language_info": {
      "name": "python"
    },
    "accelerator": "GPU",
    "gpuClass": "standard"
  },
  "cells": [
    {
      "cell_type": "markdown",
      "source": [
        "# Magic Gamma telescope readings"
      ],
      "metadata": {
        "id": "oz21MEirUcai"
      }
    },
    {
      "cell_type": "code",
      "source": [
        "!pip install scikeras"
      ],
      "metadata": {
        "colab": {
          "base_uri": "https://localhost:8080/"
        },
        "id": "kfkTwJvztvqm",
        "outputId": "626346de-3406-43cd-f093-4457bb65867e"
      },
      "execution_count": null,
      "outputs": [
        {
          "output_type": "stream",
          "name": "stdout",
          "text": [
            "Looking in indexes: https://pypi.org/simple, https://us-python.pkg.dev/colab-wheels/public/simple/\n",
            "Collecting scikeras\n",
            "  Downloading scikeras-0.9.0-py3-none-any.whl (27 kB)\n",
            "Requirement already satisfied: scikit-learn>=1.0.0 in /usr/local/lib/python3.7/dist-packages (from scikeras) (1.0.2)\n",
            "Requirement already satisfied: packaging>=0.21 in /usr/local/lib/python3.7/dist-packages (from scikeras) (21.3)\n",
            "Requirement already satisfied: importlib-metadata>=3 in /usr/local/lib/python3.7/dist-packages (from scikeras) (4.12.0)\n",
            "Requirement already satisfied: typing-extensions>=3.6.4 in /usr/local/lib/python3.7/dist-packages (from importlib-metadata>=3->scikeras) (4.1.1)\n",
            "Requirement already satisfied: zipp>=0.5 in /usr/local/lib/python3.7/dist-packages (from importlib-metadata>=3->scikeras) (3.8.1)\n",
            "Requirement already satisfied: pyparsing!=3.0.5,>=2.0.2 in /usr/local/lib/python3.7/dist-packages (from packaging>=0.21->scikeras) (3.0.9)\n",
            "Requirement already satisfied: threadpoolctl>=2.0.0 in /usr/local/lib/python3.7/dist-packages (from scikit-learn>=1.0.0->scikeras) (3.1.0)\n",
            "Requirement already satisfied: numpy>=1.14.6 in /usr/local/lib/python3.7/dist-packages (from scikit-learn>=1.0.0->scikeras) (1.21.6)\n",
            "Requirement already satisfied: scipy>=1.1.0 in /usr/local/lib/python3.7/dist-packages (from scikit-learn>=1.0.0->scikeras) (1.7.3)\n",
            "Requirement already satisfied: joblib>=0.11 in /usr/local/lib/python3.7/dist-packages (from scikit-learn>=1.0.0->scikeras) (1.1.0)\n",
            "Installing collected packages: scikeras\n",
            "Successfully installed scikeras-0.9.0\n"
          ]
        }
      ]
    },
    {
      "cell_type": "code",
      "execution_count": null,
      "metadata": {
        "id": "oRzqIIm4J-Eg"
      },
      "outputs": [],
      "source": [
        "import pandas as pd\n",
        "import numpy as np\n",
        "\n",
        "import matplotlib.pyplot as plt\n",
        "import seaborn as sns"
      ]
    },
    {
      "cell_type": "code",
      "source": [
        "from sklearn.preprocessing import MinMaxScaler, LabelEncoder\n",
        "from sklearn.model_selection import train_test_split, GridSearchCV\n",
        "from sklearn.metrics import confusion_matrix, classification_report, accuracy_score, f1_score"
      ],
      "metadata": {
        "id": "-V-cVt8wLB8Y"
      },
      "execution_count": null,
      "outputs": []
    },
    {
      "cell_type": "code",
      "source": [
        "from tensorflow.keras.models import Sequential\n",
        "from tensorflow.keras.layers import Dense, Dropout\n",
        "from tensorflow.keras.callbacks import EarlyStopping\n",
        "from tensorflow.keras.optimizers import Adam\n",
        "from scikeras.wrappers import KerasClassifier"
      ],
      "metadata": {
        "id": "jBBUmfy6Mbyt"
      },
      "execution_count": null,
      "outputs": []
    },
    {
      "cell_type": "markdown",
      "source": [
        "## Reading the dataset into python"
      ],
      "metadata": {
        "id": "XAGE2cKeUjDH"
      }
    },
    {
      "cell_type": "code",
      "source": [
        "df = pd.read_csv('/content/magic_gamma_telescope04_sample.csv')\n",
        "df.head()"
      ],
      "metadata": {
        "colab": {
          "base_uri": "https://localhost:8080/",
          "height": 206
        },
        "id": "ihDKFCxxKQoI",
        "outputId": "350f08de-6c3e-40c7-fbc4-6a7b891965d7"
      },
      "execution_count": null,
      "outputs": [
        {
          "output_type": "execute_result",
          "data": {
            "text/plain": [
              "    flength    fwidth   fsize   fconc  fconc1      fsym  fm3long  fm3trans  \\\n",
              "0   28.7967   16.0021  2.6449  0.3918  0.1982   27.7004  22.0110   -8.2027   \n",
              "1   31.6036   11.7235  2.5185  0.5303  0.3773   26.2722  23.8238   -9.9574   \n",
              "2  162.0520  136.0310  4.0612  0.0374  0.0187  116.7410 -64.8580  -45.2160   \n",
              "3   23.8172    9.5728  2.3385  0.6147  0.3922   27.2107  -6.4633   -7.1513   \n",
              "4   75.1362   30.9205  3.1611  0.3168  0.1832   -5.5277  28.5525   21.8393   \n",
              "\n",
              "    falpha      dist class  \n",
              "0  40.0920   81.8828     g  \n",
              "1   6.3609  205.2610     g  \n",
              "2  76.9600  256.7880     g  \n",
              "3  10.4490  116.7370     g  \n",
              "4   4.6480  356.4620     g  "
            ],
            "text/html": [
              "\n",
              "  <div id=\"df-99b8d24c-1495-43b0-adfa-926acf5edf29\">\n",
              "    <div class=\"colab-df-container\">\n",
              "      <div>\n",
              "<style scoped>\n",
              "    .dataframe tbody tr th:only-of-type {\n",
              "        vertical-align: middle;\n",
              "    }\n",
              "\n",
              "    .dataframe tbody tr th {\n",
              "        vertical-align: top;\n",
              "    }\n",
              "\n",
              "    .dataframe thead th {\n",
              "        text-align: right;\n",
              "    }\n",
              "</style>\n",
              "<table border=\"1\" class=\"dataframe\">\n",
              "  <thead>\n",
              "    <tr style=\"text-align: right;\">\n",
              "      <th></th>\n",
              "      <th>flength</th>\n",
              "      <th>fwidth</th>\n",
              "      <th>fsize</th>\n",
              "      <th>fconc</th>\n",
              "      <th>fconc1</th>\n",
              "      <th>fsym</th>\n",
              "      <th>fm3long</th>\n",
              "      <th>fm3trans</th>\n",
              "      <th>falpha</th>\n",
              "      <th>dist</th>\n",
              "      <th>class</th>\n",
              "    </tr>\n",
              "  </thead>\n",
              "  <tbody>\n",
              "    <tr>\n",
              "      <th>0</th>\n",
              "      <td>28.7967</td>\n",
              "      <td>16.0021</td>\n",
              "      <td>2.6449</td>\n",
              "      <td>0.3918</td>\n",
              "      <td>0.1982</td>\n",
              "      <td>27.7004</td>\n",
              "      <td>22.0110</td>\n",
              "      <td>-8.2027</td>\n",
              "      <td>40.0920</td>\n",
              "      <td>81.8828</td>\n",
              "      <td>g</td>\n",
              "    </tr>\n",
              "    <tr>\n",
              "      <th>1</th>\n",
              "      <td>31.6036</td>\n",
              "      <td>11.7235</td>\n",
              "      <td>2.5185</td>\n",
              "      <td>0.5303</td>\n",
              "      <td>0.3773</td>\n",
              "      <td>26.2722</td>\n",
              "      <td>23.8238</td>\n",
              "      <td>-9.9574</td>\n",
              "      <td>6.3609</td>\n",
              "      <td>205.2610</td>\n",
              "      <td>g</td>\n",
              "    </tr>\n",
              "    <tr>\n",
              "      <th>2</th>\n",
              "      <td>162.0520</td>\n",
              "      <td>136.0310</td>\n",
              "      <td>4.0612</td>\n",
              "      <td>0.0374</td>\n",
              "      <td>0.0187</td>\n",
              "      <td>116.7410</td>\n",
              "      <td>-64.8580</td>\n",
              "      <td>-45.2160</td>\n",
              "      <td>76.9600</td>\n",
              "      <td>256.7880</td>\n",
              "      <td>g</td>\n",
              "    </tr>\n",
              "    <tr>\n",
              "      <th>3</th>\n",
              "      <td>23.8172</td>\n",
              "      <td>9.5728</td>\n",
              "      <td>2.3385</td>\n",
              "      <td>0.6147</td>\n",
              "      <td>0.3922</td>\n",
              "      <td>27.2107</td>\n",
              "      <td>-6.4633</td>\n",
              "      <td>-7.1513</td>\n",
              "      <td>10.4490</td>\n",
              "      <td>116.7370</td>\n",
              "      <td>g</td>\n",
              "    </tr>\n",
              "    <tr>\n",
              "      <th>4</th>\n",
              "      <td>75.1362</td>\n",
              "      <td>30.9205</td>\n",
              "      <td>3.1611</td>\n",
              "      <td>0.3168</td>\n",
              "      <td>0.1832</td>\n",
              "      <td>-5.5277</td>\n",
              "      <td>28.5525</td>\n",
              "      <td>21.8393</td>\n",
              "      <td>4.6480</td>\n",
              "      <td>356.4620</td>\n",
              "      <td>g</td>\n",
              "    </tr>\n",
              "  </tbody>\n",
              "</table>\n",
              "</div>\n",
              "      <button class=\"colab-df-convert\" onclick=\"convertToInteractive('df-99b8d24c-1495-43b0-adfa-926acf5edf29')\"\n",
              "              title=\"Convert this dataframe to an interactive table.\"\n",
              "              style=\"display:none;\">\n",
              "        \n",
              "  <svg xmlns=\"http://www.w3.org/2000/svg\" height=\"24px\"viewBox=\"0 0 24 24\"\n",
              "       width=\"24px\">\n",
              "    <path d=\"M0 0h24v24H0V0z\" fill=\"none\"/>\n",
              "    <path d=\"M18.56 5.44l.94 2.06.94-2.06 2.06-.94-2.06-.94-.94-2.06-.94 2.06-2.06.94zm-11 1L8.5 8.5l.94-2.06 2.06-.94-2.06-.94L8.5 2.5l-.94 2.06-2.06.94zm10 10l.94 2.06.94-2.06 2.06-.94-2.06-.94-.94-2.06-.94 2.06-2.06.94z\"/><path d=\"M17.41 7.96l-1.37-1.37c-.4-.4-.92-.59-1.43-.59-.52 0-1.04.2-1.43.59L10.3 9.45l-7.72 7.72c-.78.78-.78 2.05 0 2.83L4 21.41c.39.39.9.59 1.41.59.51 0 1.02-.2 1.41-.59l7.78-7.78 2.81-2.81c.8-.78.8-2.07 0-2.86zM5.41 20L4 18.59l7.72-7.72 1.47 1.35L5.41 20z\"/>\n",
              "  </svg>\n",
              "      </button>\n",
              "      \n",
              "  <style>\n",
              "    .colab-df-container {\n",
              "      display:flex;\n",
              "      flex-wrap:wrap;\n",
              "      gap: 12px;\n",
              "    }\n",
              "\n",
              "    .colab-df-convert {\n",
              "      background-color: #E8F0FE;\n",
              "      border: none;\n",
              "      border-radius: 50%;\n",
              "      cursor: pointer;\n",
              "      display: none;\n",
              "      fill: #1967D2;\n",
              "      height: 32px;\n",
              "      padding: 0 0 0 0;\n",
              "      width: 32px;\n",
              "    }\n",
              "\n",
              "    .colab-df-convert:hover {\n",
              "      background-color: #E2EBFA;\n",
              "      box-shadow: 0px 1px 2px rgba(60, 64, 67, 0.3), 0px 1px 3px 1px rgba(60, 64, 67, 0.15);\n",
              "      fill: #174EA6;\n",
              "    }\n",
              "\n",
              "    [theme=dark] .colab-df-convert {\n",
              "      background-color: #3B4455;\n",
              "      fill: #D2E3FC;\n",
              "    }\n",
              "\n",
              "    [theme=dark] .colab-df-convert:hover {\n",
              "      background-color: #434B5C;\n",
              "      box-shadow: 0px 1px 3px 1px rgba(0, 0, 0, 0.15);\n",
              "      filter: drop-shadow(0px 1px 2px rgba(0, 0, 0, 0.3));\n",
              "      fill: #FFFFFF;\n",
              "    }\n",
              "  </style>\n",
              "\n",
              "      <script>\n",
              "        const buttonEl =\n",
              "          document.querySelector('#df-99b8d24c-1495-43b0-adfa-926acf5edf29 button.colab-df-convert');\n",
              "        buttonEl.style.display =\n",
              "          google.colab.kernel.accessAllowed ? 'block' : 'none';\n",
              "\n",
              "        async function convertToInteractive(key) {\n",
              "          const element = document.querySelector('#df-99b8d24c-1495-43b0-adfa-926acf5edf29');\n",
              "          const dataTable =\n",
              "            await google.colab.kernel.invokeFunction('convertToInteractive',\n",
              "                                                     [key], {});\n",
              "          if (!dataTable) return;\n",
              "\n",
              "          const docLinkHtml = 'Like what you see? Visit the ' +\n",
              "            '<a target=\"_blank\" href=https://colab.research.google.com/notebooks/data_table.ipynb>data table notebook</a>'\n",
              "            + ' to learn more about interactive tables.';\n",
              "          element.innerHTML = '';\n",
              "          dataTable['output_type'] = 'display_data';\n",
              "          await google.colab.output.renderOutput(dataTable, element);\n",
              "          const docLink = document.createElement('div');\n",
              "          docLink.innerHTML = docLinkHtml;\n",
              "          element.appendChild(docLink);\n",
              "        }\n",
              "      </script>\n",
              "    </div>\n",
              "  </div>\n",
              "  "
            ]
          },
          "metadata": {},
          "execution_count": 6
        }
      ]
    },
    {
      "cell_type": "code",
      "source": [
        "df['class'].value_counts()"
      ],
      "metadata": {
        "colab": {
          "base_uri": "https://localhost:8080/"
        },
        "id": "Ty1FCsVtKYFJ",
        "outputId": "138099d9-c462-4942-b7f8-c581c3530a18"
      },
      "execution_count": null,
      "outputs": [
        {
          "output_type": "execute_result",
          "data": {
            "text/plain": [
              "g    2183\n",
              "h    2104\n",
              "Name: class, dtype: int64"
            ]
          },
          "metadata": {},
          "execution_count": 7
        }
      ]
    },
    {
      "cell_type": "markdown",
      "source": [
        "The class is mostly even between gamma and hadron classes"
      ],
      "metadata": {
        "id": "s8yD97GsUv0d"
      }
    },
    {
      "cell_type": "code",
      "source": [
        "df.describe()"
      ],
      "metadata": {
        "colab": {
          "base_uri": "https://localhost:8080/",
          "height": 300
        },
        "id": "DI27WUeiKcCi",
        "outputId": "8b069e02-b572-4a91-8438-58bed22c7627"
      },
      "execution_count": null,
      "outputs": [
        {
          "output_type": "execute_result",
          "data": {
            "text/plain": [
              "           flength       fwidth        fsize        fconc       fconc1  \\\n",
              "count  4287.000000  4287.000000  4287.000000  4287.000000  4287.000000   \n",
              "mean     57.716420    24.135054     2.849275     0.375352     0.212399   \n",
              "std      47.897591    21.823325     0.472802     0.181586     0.110284   \n",
              "min       7.360600     0.000000     1.991600     0.013100     0.000300   \n",
              "25%      24.587650    11.904000     2.501100     0.232650     0.126450   \n",
              "50%      38.875400    17.389500     2.757400     0.352600     0.196000   \n",
              "75%      75.201750    26.154050     3.131400     0.503000     0.285400   \n",
              "max     334.177000   256.382000     5.323300     0.893000     0.628300   \n",
              "\n",
              "              fsym      fm3long     fm3trans       falpha         dist  \n",
              "count  4287.000000  4287.000000  4287.000000  4287.000000  4287.000000  \n",
              "mean     -8.742164     7.314128     0.642312    31.757071   195.702966  \n",
              "std      66.928938    56.577545    24.176600    27.188376    76.210147  \n",
              "min    -382.594000  -318.300200  -205.894700     0.000000     5.745600  \n",
              "25%     -25.685900   -15.003250   -10.895600     7.439800   142.827500  \n",
              "50%       1.845800    14.907700     1.910700    23.821000   193.740000  \n",
              "75%      23.421500    34.763650    11.382700    53.004700   242.893700  \n",
              "max     575.240700   238.321000   179.851000    90.000000   450.953000  "
            ],
            "text/html": [
              "\n",
              "  <div id=\"df-ed0323c8-cd86-4e6e-a930-0de9f3564019\">\n",
              "    <div class=\"colab-df-container\">\n",
              "      <div>\n",
              "<style scoped>\n",
              "    .dataframe tbody tr th:only-of-type {\n",
              "        vertical-align: middle;\n",
              "    }\n",
              "\n",
              "    .dataframe tbody tr th {\n",
              "        vertical-align: top;\n",
              "    }\n",
              "\n",
              "    .dataframe thead th {\n",
              "        text-align: right;\n",
              "    }\n",
              "</style>\n",
              "<table border=\"1\" class=\"dataframe\">\n",
              "  <thead>\n",
              "    <tr style=\"text-align: right;\">\n",
              "      <th></th>\n",
              "      <th>flength</th>\n",
              "      <th>fwidth</th>\n",
              "      <th>fsize</th>\n",
              "      <th>fconc</th>\n",
              "      <th>fconc1</th>\n",
              "      <th>fsym</th>\n",
              "      <th>fm3long</th>\n",
              "      <th>fm3trans</th>\n",
              "      <th>falpha</th>\n",
              "      <th>dist</th>\n",
              "    </tr>\n",
              "  </thead>\n",
              "  <tbody>\n",
              "    <tr>\n",
              "      <th>count</th>\n",
              "      <td>4287.000000</td>\n",
              "      <td>4287.000000</td>\n",
              "      <td>4287.000000</td>\n",
              "      <td>4287.000000</td>\n",
              "      <td>4287.000000</td>\n",
              "      <td>4287.000000</td>\n",
              "      <td>4287.000000</td>\n",
              "      <td>4287.000000</td>\n",
              "      <td>4287.000000</td>\n",
              "      <td>4287.000000</td>\n",
              "    </tr>\n",
              "    <tr>\n",
              "      <th>mean</th>\n",
              "      <td>57.716420</td>\n",
              "      <td>24.135054</td>\n",
              "      <td>2.849275</td>\n",
              "      <td>0.375352</td>\n",
              "      <td>0.212399</td>\n",
              "      <td>-8.742164</td>\n",
              "      <td>7.314128</td>\n",
              "      <td>0.642312</td>\n",
              "      <td>31.757071</td>\n",
              "      <td>195.702966</td>\n",
              "    </tr>\n",
              "    <tr>\n",
              "      <th>std</th>\n",
              "      <td>47.897591</td>\n",
              "      <td>21.823325</td>\n",
              "      <td>0.472802</td>\n",
              "      <td>0.181586</td>\n",
              "      <td>0.110284</td>\n",
              "      <td>66.928938</td>\n",
              "      <td>56.577545</td>\n",
              "      <td>24.176600</td>\n",
              "      <td>27.188376</td>\n",
              "      <td>76.210147</td>\n",
              "    </tr>\n",
              "    <tr>\n",
              "      <th>min</th>\n",
              "      <td>7.360600</td>\n",
              "      <td>0.000000</td>\n",
              "      <td>1.991600</td>\n",
              "      <td>0.013100</td>\n",
              "      <td>0.000300</td>\n",
              "      <td>-382.594000</td>\n",
              "      <td>-318.300200</td>\n",
              "      <td>-205.894700</td>\n",
              "      <td>0.000000</td>\n",
              "      <td>5.745600</td>\n",
              "    </tr>\n",
              "    <tr>\n",
              "      <th>25%</th>\n",
              "      <td>24.587650</td>\n",
              "      <td>11.904000</td>\n",
              "      <td>2.501100</td>\n",
              "      <td>0.232650</td>\n",
              "      <td>0.126450</td>\n",
              "      <td>-25.685900</td>\n",
              "      <td>-15.003250</td>\n",
              "      <td>-10.895600</td>\n",
              "      <td>7.439800</td>\n",
              "      <td>142.827500</td>\n",
              "    </tr>\n",
              "    <tr>\n",
              "      <th>50%</th>\n",
              "      <td>38.875400</td>\n",
              "      <td>17.389500</td>\n",
              "      <td>2.757400</td>\n",
              "      <td>0.352600</td>\n",
              "      <td>0.196000</td>\n",
              "      <td>1.845800</td>\n",
              "      <td>14.907700</td>\n",
              "      <td>1.910700</td>\n",
              "      <td>23.821000</td>\n",
              "      <td>193.740000</td>\n",
              "    </tr>\n",
              "    <tr>\n",
              "      <th>75%</th>\n",
              "      <td>75.201750</td>\n",
              "      <td>26.154050</td>\n",
              "      <td>3.131400</td>\n",
              "      <td>0.503000</td>\n",
              "      <td>0.285400</td>\n",
              "      <td>23.421500</td>\n",
              "      <td>34.763650</td>\n",
              "      <td>11.382700</td>\n",
              "      <td>53.004700</td>\n",
              "      <td>242.893700</td>\n",
              "    </tr>\n",
              "    <tr>\n",
              "      <th>max</th>\n",
              "      <td>334.177000</td>\n",
              "      <td>256.382000</td>\n",
              "      <td>5.323300</td>\n",
              "      <td>0.893000</td>\n",
              "      <td>0.628300</td>\n",
              "      <td>575.240700</td>\n",
              "      <td>238.321000</td>\n",
              "      <td>179.851000</td>\n",
              "      <td>90.000000</td>\n",
              "      <td>450.953000</td>\n",
              "    </tr>\n",
              "  </tbody>\n",
              "</table>\n",
              "</div>\n",
              "      <button class=\"colab-df-convert\" onclick=\"convertToInteractive('df-ed0323c8-cd86-4e6e-a930-0de9f3564019')\"\n",
              "              title=\"Convert this dataframe to an interactive table.\"\n",
              "              style=\"display:none;\">\n",
              "        \n",
              "  <svg xmlns=\"http://www.w3.org/2000/svg\" height=\"24px\"viewBox=\"0 0 24 24\"\n",
              "       width=\"24px\">\n",
              "    <path d=\"M0 0h24v24H0V0z\" fill=\"none\"/>\n",
              "    <path d=\"M18.56 5.44l.94 2.06.94-2.06 2.06-.94-2.06-.94-.94-2.06-.94 2.06-2.06.94zm-11 1L8.5 8.5l.94-2.06 2.06-.94-2.06-.94L8.5 2.5l-.94 2.06-2.06.94zm10 10l.94 2.06.94-2.06 2.06-.94-2.06-.94-.94-2.06-.94 2.06-2.06.94z\"/><path d=\"M17.41 7.96l-1.37-1.37c-.4-.4-.92-.59-1.43-.59-.52 0-1.04.2-1.43.59L10.3 9.45l-7.72 7.72c-.78.78-.78 2.05 0 2.83L4 21.41c.39.39.9.59 1.41.59.51 0 1.02-.2 1.41-.59l7.78-7.78 2.81-2.81c.8-.78.8-2.07 0-2.86zM5.41 20L4 18.59l7.72-7.72 1.47 1.35L5.41 20z\"/>\n",
              "  </svg>\n",
              "      </button>\n",
              "      \n",
              "  <style>\n",
              "    .colab-df-container {\n",
              "      display:flex;\n",
              "      flex-wrap:wrap;\n",
              "      gap: 12px;\n",
              "    }\n",
              "\n",
              "    .colab-df-convert {\n",
              "      background-color: #E8F0FE;\n",
              "      border: none;\n",
              "      border-radius: 50%;\n",
              "      cursor: pointer;\n",
              "      display: none;\n",
              "      fill: #1967D2;\n",
              "      height: 32px;\n",
              "      padding: 0 0 0 0;\n",
              "      width: 32px;\n",
              "    }\n",
              "\n",
              "    .colab-df-convert:hover {\n",
              "      background-color: #E2EBFA;\n",
              "      box-shadow: 0px 1px 2px rgba(60, 64, 67, 0.3), 0px 1px 3px 1px rgba(60, 64, 67, 0.15);\n",
              "      fill: #174EA6;\n",
              "    }\n",
              "\n",
              "    [theme=dark] .colab-df-convert {\n",
              "      background-color: #3B4455;\n",
              "      fill: #D2E3FC;\n",
              "    }\n",
              "\n",
              "    [theme=dark] .colab-df-convert:hover {\n",
              "      background-color: #434B5C;\n",
              "      box-shadow: 0px 1px 3px 1px rgba(0, 0, 0, 0.15);\n",
              "      filter: drop-shadow(0px 1px 2px rgba(0, 0, 0, 0.3));\n",
              "      fill: #FFFFFF;\n",
              "    }\n",
              "  </style>\n",
              "\n",
              "      <script>\n",
              "        const buttonEl =\n",
              "          document.querySelector('#df-ed0323c8-cd86-4e6e-a930-0de9f3564019 button.colab-df-convert');\n",
              "        buttonEl.style.display =\n",
              "          google.colab.kernel.accessAllowed ? 'block' : 'none';\n",
              "\n",
              "        async function convertToInteractive(key) {\n",
              "          const element = document.querySelector('#df-ed0323c8-cd86-4e6e-a930-0de9f3564019');\n",
              "          const dataTable =\n",
              "            await google.colab.kernel.invokeFunction('convertToInteractive',\n",
              "                                                     [key], {});\n",
              "          if (!dataTable) return;\n",
              "\n",
              "          const docLinkHtml = 'Like what you see? Visit the ' +\n",
              "            '<a target=\"_blank\" href=https://colab.research.google.com/notebooks/data_table.ipynb>data table notebook</a>'\n",
              "            + ' to learn more about interactive tables.';\n",
              "          element.innerHTML = '';\n",
              "          dataTable['output_type'] = 'display_data';\n",
              "          await google.colab.output.renderOutput(dataTable, element);\n",
              "          const docLink = document.createElement('div');\n",
              "          docLink.innerHTML = docLinkHtml;\n",
              "          element.appendChild(docLink);\n",
              "        }\n",
              "      </script>\n",
              "    </div>\n",
              "  </div>\n",
              "  "
            ]
          },
          "metadata": {},
          "execution_count": 8
        }
      ]
    },
    {
      "cell_type": "code",
      "source": [
        "df.info()"
      ],
      "metadata": {
        "colab": {
          "base_uri": "https://localhost:8080/"
        },
        "id": "aEbqLmSpK0Kb",
        "outputId": "5cf4f3ed-75a2-44e8-87b9-baacc1c5ab16"
      },
      "execution_count": null,
      "outputs": [
        {
          "output_type": "stream",
          "name": "stdout",
          "text": [
            "<class 'pandas.core.frame.DataFrame'>\n",
            "RangeIndex: 4287 entries, 0 to 4286\n",
            "Data columns (total 11 columns):\n",
            " #   Column    Non-Null Count  Dtype  \n",
            "---  ------    --------------  -----  \n",
            " 0   flength   4287 non-null   float64\n",
            " 1   fwidth    4287 non-null   float64\n",
            " 2   fsize     4287 non-null   float64\n",
            " 3   fconc     4287 non-null   float64\n",
            " 4   fconc1    4287 non-null   float64\n",
            " 5   fsym      4287 non-null   float64\n",
            " 6   fm3long   4287 non-null   float64\n",
            " 7   fm3trans  4287 non-null   float64\n",
            " 8   falpha    4287 non-null   float64\n",
            " 9   dist      4287 non-null   float64\n",
            " 10  class     4287 non-null   object \n",
            "dtypes: float64(10), object(1)\n",
            "memory usage: 368.5+ KB\n"
          ]
        }
      ]
    },
    {
      "cell_type": "markdown",
      "source": [
        "No null values or type problems"
      ],
      "metadata": {
        "id": "gmUqKWoCVSIX"
      }
    },
    {
      "cell_type": "code",
      "source": [
        "X = df.drop('class', axis=1).values\n",
        "y = df['class'].values"
      ],
      "metadata": {
        "id": "1xQPk2QIK-3j"
      },
      "execution_count": null,
      "outputs": []
    },
    {
      "cell_type": "code",
      "source": [
        "X_train, X_test, y_train, y_test = train_test_split(X, y, test_size=0.2, random_state=42)"
      ],
      "metadata": {
        "id": "dQbJHOv_LRdP"
      },
      "execution_count": null,
      "outputs": []
    },
    {
      "cell_type": "markdown",
      "source": [
        "## Scaling"
      ],
      "metadata": {
        "id": "a0Q11iNfVWOS"
      }
    },
    {
      "cell_type": "code",
      "source": [
        "scale = MinMaxScaler()"
      ],
      "metadata": {
        "id": "GKoR6E1QLia0"
      },
      "execution_count": null,
      "outputs": []
    },
    {
      "cell_type": "code",
      "source": [
        "train_fit = scale.fit(X_train)"
      ],
      "metadata": {
        "id": "VvZY80i6LlSj"
      },
      "execution_count": null,
      "outputs": []
    },
    {
      "cell_type": "code",
      "source": [
        "X_train = train_fit.transform(X_train)\n",
        "X_test = train_fit.transform(X_test)"
      ],
      "metadata": {
        "id": "QGm1xkoULpcI"
      },
      "execution_count": null,
      "outputs": []
    },
    {
      "cell_type": "markdown",
      "source": [
        "## Label Encoding"
      ],
      "metadata": {
        "id": "8MeFXfaKVhTJ"
      }
    },
    {
      "cell_type": "code",
      "source": [
        "le = LabelEncoder()\n",
        "y_en = le.fit_transform(y)\n",
        "y_train_en = le.fit_transform(y_train)\n",
        "y_test_en = le.fit_transform(y_test)"
      ],
      "metadata": {
        "id": "Afi55pPVL3q2"
      },
      "execution_count": null,
      "outputs": []
    },
    {
      "cell_type": "code",
      "source": [
        "X_train.shape, X_test.shape"
      ],
      "metadata": {
        "colab": {
          "base_uri": "https://localhost:8080/"
        },
        "id": "fLE1dWQdMz0e",
        "outputId": "90e35f24-2b5e-4e77-f3db-362218547f43"
      },
      "execution_count": null,
      "outputs": [
        {
          "output_type": "execute_result",
          "data": {
            "text/plain": [
              "((3429, 10), (858, 10))"
            ]
          },
          "metadata": {},
          "execution_count": 16
        }
      ]
    },
    {
      "cell_type": "markdown",
      "source": [
        "## Model Evaluation\n",
        "Building an initial ANN model randomly to assess performance. Using two hidden layers with 16 neurons each."
      ],
      "metadata": {
        "id": "6SPxc8K_Vkya"
      }
    },
    {
      "cell_type": "code",
      "source": [
        "model = Sequential()\n",
        "\n",
        "model.add(Dense(16, input_shape=(10,), activation='relu'))\n",
        "model.add(Dense(16, activation='relu'))\n",
        "\n",
        "model.add(Dense(1, activation='sigmoid'))\n",
        "\n",
        "model.compile(loss='binary_crossentropy', optimizer='adam', metrics=['accuracy'])"
      ],
      "metadata": {
        "id": "wgHmeWWKMT4y"
      },
      "execution_count": null,
      "outputs": []
    },
    {
      "cell_type": "code",
      "source": [
        "early_stop = EarlyStopping(monitor='val_loss', mode='min', patience=5)"
      ],
      "metadata": {
        "id": "IDJqJjYBOc9y"
      },
      "execution_count": null,
      "outputs": []
    },
    {
      "cell_type": "code",
      "source": [
        "model.fit(X_train, y_train_en, batch_size=12, epochs=100, \n",
        "          validation_data=(X_test, y_test_en), callbacks=[early_stop])"
      ],
      "metadata": {
        "colab": {
          "base_uri": "https://localhost:8080/"
        },
        "id": "0uz3geoIOHxs",
        "outputId": "1d4c6c5a-98cd-41ea-c2b2-cae0d4c2eb97"
      },
      "execution_count": null,
      "outputs": [
        {
          "output_type": "stream",
          "name": "stdout",
          "text": [
            "Epoch 1/100\n",
            "286/286 [==============================] - 4s 4ms/step - loss: 0.6241 - accuracy: 0.6815 - val_loss: 0.5453 - val_accuracy: 0.7739\n",
            "Epoch 2/100\n",
            "286/286 [==============================] - 1s 3ms/step - loss: 0.5056 - accuracy: 0.7714 - val_loss: 0.4873 - val_accuracy: 0.7774\n",
            "Epoch 3/100\n",
            "286/286 [==============================] - 1s 3ms/step - loss: 0.4702 - accuracy: 0.7781 - val_loss: 0.4642 - val_accuracy: 0.7867\n",
            "Epoch 4/100\n",
            "286/286 [==============================] - 1s 3ms/step - loss: 0.4507 - accuracy: 0.7877 - val_loss: 0.4504 - val_accuracy: 0.7914\n",
            "Epoch 5/100\n",
            "286/286 [==============================] - 1s 3ms/step - loss: 0.4350 - accuracy: 0.7915 - val_loss: 0.4386 - val_accuracy: 0.7902\n",
            "Epoch 6/100\n",
            "286/286 [==============================] - 1s 3ms/step - loss: 0.4248 - accuracy: 0.8002 - val_loss: 0.4367 - val_accuracy: 0.7972\n",
            "Epoch 7/100\n",
            "286/286 [==============================] - 1s 3ms/step - loss: 0.4206 - accuracy: 0.8029 - val_loss: 0.4179 - val_accuracy: 0.8019\n",
            "Epoch 8/100\n",
            "286/286 [==============================] - 1s 3ms/step - loss: 0.4144 - accuracy: 0.8116 - val_loss: 0.4224 - val_accuracy: 0.7879\n",
            "Epoch 9/100\n",
            "286/286 [==============================] - 1s 3ms/step - loss: 0.4101 - accuracy: 0.8087 - val_loss: 0.4166 - val_accuracy: 0.7925\n",
            "Epoch 10/100\n",
            "286/286 [==============================] - 1s 3ms/step - loss: 0.4061 - accuracy: 0.8177 - val_loss: 0.4144 - val_accuracy: 0.7937\n",
            "Epoch 11/100\n",
            "286/286 [==============================] - 1s 3ms/step - loss: 0.4033 - accuracy: 0.8180 - val_loss: 0.4127 - val_accuracy: 0.7949\n",
            "Epoch 12/100\n",
            "286/286 [==============================] - 1s 3ms/step - loss: 0.3985 - accuracy: 0.8233 - val_loss: 0.4073 - val_accuracy: 0.8019\n",
            "Epoch 13/100\n",
            "286/286 [==============================] - 1s 3ms/step - loss: 0.3978 - accuracy: 0.8189 - val_loss: 0.4083 - val_accuracy: 0.8124\n",
            "Epoch 14/100\n",
            "286/286 [==============================] - 1s 3ms/step - loss: 0.3949 - accuracy: 0.8233 - val_loss: 0.4080 - val_accuracy: 0.7972\n",
            "Epoch 15/100\n",
            "286/286 [==============================] - 1s 3ms/step - loss: 0.3913 - accuracy: 0.8250 - val_loss: 0.3971 - val_accuracy: 0.8182\n",
            "Epoch 16/100\n",
            "286/286 [==============================] - 1s 3ms/step - loss: 0.3907 - accuracy: 0.8218 - val_loss: 0.3996 - val_accuracy: 0.8089\n",
            "Epoch 17/100\n",
            "286/286 [==============================] - 1s 3ms/step - loss: 0.3871 - accuracy: 0.8279 - val_loss: 0.3979 - val_accuracy: 0.8205\n",
            "Epoch 18/100\n",
            "286/286 [==============================] - 1s 3ms/step - loss: 0.3883 - accuracy: 0.8265 - val_loss: 0.3996 - val_accuracy: 0.8042\n",
            "Epoch 19/100\n",
            "286/286 [==============================] - 1s 3ms/step - loss: 0.3850 - accuracy: 0.8294 - val_loss: 0.3948 - val_accuracy: 0.8217\n",
            "Epoch 20/100\n",
            "286/286 [==============================] - 1s 3ms/step - loss: 0.3827 - accuracy: 0.8320 - val_loss: 0.3935 - val_accuracy: 0.8205\n",
            "Epoch 21/100\n",
            "286/286 [==============================] - 1s 3ms/step - loss: 0.3811 - accuracy: 0.8311 - val_loss: 0.3940 - val_accuracy: 0.8135\n",
            "Epoch 22/100\n",
            "286/286 [==============================] - 1s 3ms/step - loss: 0.3823 - accuracy: 0.8285 - val_loss: 0.3898 - val_accuracy: 0.8228\n",
            "Epoch 23/100\n",
            "286/286 [==============================] - 1s 3ms/step - loss: 0.3792 - accuracy: 0.8341 - val_loss: 0.4093 - val_accuracy: 0.8030\n",
            "Epoch 24/100\n",
            "286/286 [==============================] - 1s 3ms/step - loss: 0.3769 - accuracy: 0.8358 - val_loss: 0.3923 - val_accuracy: 0.8159\n",
            "Epoch 25/100\n",
            "286/286 [==============================] - 1s 3ms/step - loss: 0.3748 - accuracy: 0.8390 - val_loss: 0.3968 - val_accuracy: 0.8205\n",
            "Epoch 26/100\n",
            "286/286 [==============================] - 1s 3ms/step - loss: 0.3745 - accuracy: 0.8309 - val_loss: 0.3910 - val_accuracy: 0.8193\n",
            "Epoch 27/100\n",
            "286/286 [==============================] - 1s 3ms/step - loss: 0.3716 - accuracy: 0.8361 - val_loss: 0.4242 - val_accuracy: 0.7937\n"
          ]
        },
        {
          "output_type": "execute_result",
          "data": {
            "text/plain": [
              "<keras.callbacks.History at 0x7fb3e0243b10>"
            ]
          },
          "metadata": {},
          "execution_count": 19
        }
      ]
    },
    {
      "cell_type": "code",
      "source": [
        "ann_metrics = pd.DataFrame(model.history.history)\n",
        "ann_metrics"
      ],
      "metadata": {
        "colab": {
          "base_uri": "https://localhost:8080/",
          "height": 896
        },
        "id": "k3UE60mlO6hO",
        "outputId": "449d3a24-dfc9-41f9-d3fb-32bc62411df7"
      },
      "execution_count": null,
      "outputs": [
        {
          "output_type": "execute_result",
          "data": {
            "text/plain": [
              "        loss  accuracy  val_loss  val_accuracy\n",
              "0   0.624083  0.681540  0.545299      0.773893\n",
              "1   0.505550  0.771362  0.487323      0.777389\n",
              "2   0.470151  0.778069  0.464228      0.786713\n",
              "3   0.450671  0.787693  0.450390      0.791375\n",
              "4   0.435048  0.791484  0.438554      0.790210\n",
              "5   0.424831  0.800233  0.436658      0.797203\n",
              "6   0.420646  0.802858  0.417920      0.801865\n",
              "7   0.414392  0.811607  0.422423      0.787879\n",
              "8   0.410124  0.808691  0.416616      0.792541\n",
              "9   0.406077  0.817731  0.414396      0.793706\n",
              "10  0.403340  0.818023  0.412690      0.794872\n",
              "11  0.398522  0.823272  0.407326      0.801865\n",
              "12  0.397756  0.818898  0.408315      0.812354\n",
              "13  0.394860  0.823272  0.408010      0.797203\n",
              "14  0.391265  0.825022  0.397110      0.818182\n",
              "15  0.390691  0.821814  0.399613      0.808858\n",
              "16  0.387122  0.827938  0.397899      0.820513\n",
              "17  0.388346  0.826480  0.399634      0.804196\n",
              "18  0.385030  0.829396  0.394845      0.821678\n",
              "19  0.382749  0.832021  0.393542      0.820513\n",
              "20  0.381052  0.831146  0.393978      0.813520\n",
              "21  0.382272  0.828521  0.389765      0.822844\n",
              "22  0.379194  0.834062  0.409288      0.803030\n",
              "23  0.376892  0.835812  0.392310      0.815851\n",
              "24  0.374847  0.839020  0.396811      0.820513\n",
              "25  0.374541  0.830854  0.390977      0.819347\n",
              "26  0.371644  0.836104  0.424180      0.793706"
            ],
            "text/html": [
              "\n",
              "  <div id=\"df-92ea444a-2295-4d20-87f6-d0cb7b458c68\">\n",
              "    <div class=\"colab-df-container\">\n",
              "      <div>\n",
              "<style scoped>\n",
              "    .dataframe tbody tr th:only-of-type {\n",
              "        vertical-align: middle;\n",
              "    }\n",
              "\n",
              "    .dataframe tbody tr th {\n",
              "        vertical-align: top;\n",
              "    }\n",
              "\n",
              "    .dataframe thead th {\n",
              "        text-align: right;\n",
              "    }\n",
              "</style>\n",
              "<table border=\"1\" class=\"dataframe\">\n",
              "  <thead>\n",
              "    <tr style=\"text-align: right;\">\n",
              "      <th></th>\n",
              "      <th>loss</th>\n",
              "      <th>accuracy</th>\n",
              "      <th>val_loss</th>\n",
              "      <th>val_accuracy</th>\n",
              "    </tr>\n",
              "  </thead>\n",
              "  <tbody>\n",
              "    <tr>\n",
              "      <th>0</th>\n",
              "      <td>0.624083</td>\n",
              "      <td>0.681540</td>\n",
              "      <td>0.545299</td>\n",
              "      <td>0.773893</td>\n",
              "    </tr>\n",
              "    <tr>\n",
              "      <th>1</th>\n",
              "      <td>0.505550</td>\n",
              "      <td>0.771362</td>\n",
              "      <td>0.487323</td>\n",
              "      <td>0.777389</td>\n",
              "    </tr>\n",
              "    <tr>\n",
              "      <th>2</th>\n",
              "      <td>0.470151</td>\n",
              "      <td>0.778069</td>\n",
              "      <td>0.464228</td>\n",
              "      <td>0.786713</td>\n",
              "    </tr>\n",
              "    <tr>\n",
              "      <th>3</th>\n",
              "      <td>0.450671</td>\n",
              "      <td>0.787693</td>\n",
              "      <td>0.450390</td>\n",
              "      <td>0.791375</td>\n",
              "    </tr>\n",
              "    <tr>\n",
              "      <th>4</th>\n",
              "      <td>0.435048</td>\n",
              "      <td>0.791484</td>\n",
              "      <td>0.438554</td>\n",
              "      <td>0.790210</td>\n",
              "    </tr>\n",
              "    <tr>\n",
              "      <th>5</th>\n",
              "      <td>0.424831</td>\n",
              "      <td>0.800233</td>\n",
              "      <td>0.436658</td>\n",
              "      <td>0.797203</td>\n",
              "    </tr>\n",
              "    <tr>\n",
              "      <th>6</th>\n",
              "      <td>0.420646</td>\n",
              "      <td>0.802858</td>\n",
              "      <td>0.417920</td>\n",
              "      <td>0.801865</td>\n",
              "    </tr>\n",
              "    <tr>\n",
              "      <th>7</th>\n",
              "      <td>0.414392</td>\n",
              "      <td>0.811607</td>\n",
              "      <td>0.422423</td>\n",
              "      <td>0.787879</td>\n",
              "    </tr>\n",
              "    <tr>\n",
              "      <th>8</th>\n",
              "      <td>0.410124</td>\n",
              "      <td>0.808691</td>\n",
              "      <td>0.416616</td>\n",
              "      <td>0.792541</td>\n",
              "    </tr>\n",
              "    <tr>\n",
              "      <th>9</th>\n",
              "      <td>0.406077</td>\n",
              "      <td>0.817731</td>\n",
              "      <td>0.414396</td>\n",
              "      <td>0.793706</td>\n",
              "    </tr>\n",
              "    <tr>\n",
              "      <th>10</th>\n",
              "      <td>0.403340</td>\n",
              "      <td>0.818023</td>\n",
              "      <td>0.412690</td>\n",
              "      <td>0.794872</td>\n",
              "    </tr>\n",
              "    <tr>\n",
              "      <th>11</th>\n",
              "      <td>0.398522</td>\n",
              "      <td>0.823272</td>\n",
              "      <td>0.407326</td>\n",
              "      <td>0.801865</td>\n",
              "    </tr>\n",
              "    <tr>\n",
              "      <th>12</th>\n",
              "      <td>0.397756</td>\n",
              "      <td>0.818898</td>\n",
              "      <td>0.408315</td>\n",
              "      <td>0.812354</td>\n",
              "    </tr>\n",
              "    <tr>\n",
              "      <th>13</th>\n",
              "      <td>0.394860</td>\n",
              "      <td>0.823272</td>\n",
              "      <td>0.408010</td>\n",
              "      <td>0.797203</td>\n",
              "    </tr>\n",
              "    <tr>\n",
              "      <th>14</th>\n",
              "      <td>0.391265</td>\n",
              "      <td>0.825022</td>\n",
              "      <td>0.397110</td>\n",
              "      <td>0.818182</td>\n",
              "    </tr>\n",
              "    <tr>\n",
              "      <th>15</th>\n",
              "      <td>0.390691</td>\n",
              "      <td>0.821814</td>\n",
              "      <td>0.399613</td>\n",
              "      <td>0.808858</td>\n",
              "    </tr>\n",
              "    <tr>\n",
              "      <th>16</th>\n",
              "      <td>0.387122</td>\n",
              "      <td>0.827938</td>\n",
              "      <td>0.397899</td>\n",
              "      <td>0.820513</td>\n",
              "    </tr>\n",
              "    <tr>\n",
              "      <th>17</th>\n",
              "      <td>0.388346</td>\n",
              "      <td>0.826480</td>\n",
              "      <td>0.399634</td>\n",
              "      <td>0.804196</td>\n",
              "    </tr>\n",
              "    <tr>\n",
              "      <th>18</th>\n",
              "      <td>0.385030</td>\n",
              "      <td>0.829396</td>\n",
              "      <td>0.394845</td>\n",
              "      <td>0.821678</td>\n",
              "    </tr>\n",
              "    <tr>\n",
              "      <th>19</th>\n",
              "      <td>0.382749</td>\n",
              "      <td>0.832021</td>\n",
              "      <td>0.393542</td>\n",
              "      <td>0.820513</td>\n",
              "    </tr>\n",
              "    <tr>\n",
              "      <th>20</th>\n",
              "      <td>0.381052</td>\n",
              "      <td>0.831146</td>\n",
              "      <td>0.393978</td>\n",
              "      <td>0.813520</td>\n",
              "    </tr>\n",
              "    <tr>\n",
              "      <th>21</th>\n",
              "      <td>0.382272</td>\n",
              "      <td>0.828521</td>\n",
              "      <td>0.389765</td>\n",
              "      <td>0.822844</td>\n",
              "    </tr>\n",
              "    <tr>\n",
              "      <th>22</th>\n",
              "      <td>0.379194</td>\n",
              "      <td>0.834062</td>\n",
              "      <td>0.409288</td>\n",
              "      <td>0.803030</td>\n",
              "    </tr>\n",
              "    <tr>\n",
              "      <th>23</th>\n",
              "      <td>0.376892</td>\n",
              "      <td>0.835812</td>\n",
              "      <td>0.392310</td>\n",
              "      <td>0.815851</td>\n",
              "    </tr>\n",
              "    <tr>\n",
              "      <th>24</th>\n",
              "      <td>0.374847</td>\n",
              "      <td>0.839020</td>\n",
              "      <td>0.396811</td>\n",
              "      <td>0.820513</td>\n",
              "    </tr>\n",
              "    <tr>\n",
              "      <th>25</th>\n",
              "      <td>0.374541</td>\n",
              "      <td>0.830854</td>\n",
              "      <td>0.390977</td>\n",
              "      <td>0.819347</td>\n",
              "    </tr>\n",
              "    <tr>\n",
              "      <th>26</th>\n",
              "      <td>0.371644</td>\n",
              "      <td>0.836104</td>\n",
              "      <td>0.424180</td>\n",
              "      <td>0.793706</td>\n",
              "    </tr>\n",
              "  </tbody>\n",
              "</table>\n",
              "</div>\n",
              "      <button class=\"colab-df-convert\" onclick=\"convertToInteractive('df-92ea444a-2295-4d20-87f6-d0cb7b458c68')\"\n",
              "              title=\"Convert this dataframe to an interactive table.\"\n",
              "              style=\"display:none;\">\n",
              "        \n",
              "  <svg xmlns=\"http://www.w3.org/2000/svg\" height=\"24px\"viewBox=\"0 0 24 24\"\n",
              "       width=\"24px\">\n",
              "    <path d=\"M0 0h24v24H0V0z\" fill=\"none\"/>\n",
              "    <path d=\"M18.56 5.44l.94 2.06.94-2.06 2.06-.94-2.06-.94-.94-2.06-.94 2.06-2.06.94zm-11 1L8.5 8.5l.94-2.06 2.06-.94-2.06-.94L8.5 2.5l-.94 2.06-2.06.94zm10 10l.94 2.06.94-2.06 2.06-.94-2.06-.94-.94-2.06-.94 2.06-2.06.94z\"/><path d=\"M17.41 7.96l-1.37-1.37c-.4-.4-.92-.59-1.43-.59-.52 0-1.04.2-1.43.59L10.3 9.45l-7.72 7.72c-.78.78-.78 2.05 0 2.83L4 21.41c.39.39.9.59 1.41.59.51 0 1.02-.2 1.41-.59l7.78-7.78 2.81-2.81c.8-.78.8-2.07 0-2.86zM5.41 20L4 18.59l7.72-7.72 1.47 1.35L5.41 20z\"/>\n",
              "  </svg>\n",
              "      </button>\n",
              "      \n",
              "  <style>\n",
              "    .colab-df-container {\n",
              "      display:flex;\n",
              "      flex-wrap:wrap;\n",
              "      gap: 12px;\n",
              "    }\n",
              "\n",
              "    .colab-df-convert {\n",
              "      background-color: #E8F0FE;\n",
              "      border: none;\n",
              "      border-radius: 50%;\n",
              "      cursor: pointer;\n",
              "      display: none;\n",
              "      fill: #1967D2;\n",
              "      height: 32px;\n",
              "      padding: 0 0 0 0;\n",
              "      width: 32px;\n",
              "    }\n",
              "\n",
              "    .colab-df-convert:hover {\n",
              "      background-color: #E2EBFA;\n",
              "      box-shadow: 0px 1px 2px rgba(60, 64, 67, 0.3), 0px 1px 3px 1px rgba(60, 64, 67, 0.15);\n",
              "      fill: #174EA6;\n",
              "    }\n",
              "\n",
              "    [theme=dark] .colab-df-convert {\n",
              "      background-color: #3B4455;\n",
              "      fill: #D2E3FC;\n",
              "    }\n",
              "\n",
              "    [theme=dark] .colab-df-convert:hover {\n",
              "      background-color: #434B5C;\n",
              "      box-shadow: 0px 1px 3px 1px rgba(0, 0, 0, 0.15);\n",
              "      filter: drop-shadow(0px 1px 2px rgba(0, 0, 0, 0.3));\n",
              "      fill: #FFFFFF;\n",
              "    }\n",
              "  </style>\n",
              "\n",
              "      <script>\n",
              "        const buttonEl =\n",
              "          document.querySelector('#df-92ea444a-2295-4d20-87f6-d0cb7b458c68 button.colab-df-convert');\n",
              "        buttonEl.style.display =\n",
              "          google.colab.kernel.accessAllowed ? 'block' : 'none';\n",
              "\n",
              "        async function convertToInteractive(key) {\n",
              "          const element = document.querySelector('#df-92ea444a-2295-4d20-87f6-d0cb7b458c68');\n",
              "          const dataTable =\n",
              "            await google.colab.kernel.invokeFunction('convertToInteractive',\n",
              "                                                     [key], {});\n",
              "          if (!dataTable) return;\n",
              "\n",
              "          const docLinkHtml = 'Like what you see? Visit the ' +\n",
              "            '<a target=\"_blank\" href=https://colab.research.google.com/notebooks/data_table.ipynb>data table notebook</a>'\n",
              "            + ' to learn more about interactive tables.';\n",
              "          element.innerHTML = '';\n",
              "          dataTable['output_type'] = 'display_data';\n",
              "          await google.colab.output.renderOutput(dataTable, element);\n",
              "          const docLink = document.createElement('div');\n",
              "          docLink.innerHTML = docLinkHtml;\n",
              "          element.appendChild(docLink);\n",
              "        }\n",
              "      </script>\n",
              "    </div>\n",
              "  </div>\n",
              "  "
            ]
          },
          "metadata": {},
          "execution_count": 20
        }
      ]
    },
    {
      "cell_type": "markdown",
      "source": [
        "### Evaluating Loss"
      ],
      "metadata": {
        "id": "mV29TM1ZV56T"
      }
    },
    {
      "cell_type": "code",
      "source": [
        "ann_metrics[['loss', 'val_loss']].plot()"
      ],
      "metadata": {
        "colab": {
          "base_uri": "https://localhost:8080/",
          "height": 282
        },
        "id": "YfjgH9UePkSz",
        "outputId": "6bd40572-c29d-493c-ae67-2f8b6ca26603"
      },
      "execution_count": null,
      "outputs": [
        {
          "output_type": "execute_result",
          "data": {
            "text/plain": [
              "<matplotlib.axes._subplots.AxesSubplot at 0x7fb37672ae90>"
            ]
          },
          "metadata": {},
          "execution_count": 21
        },
        {
          "output_type": "display_data",
          "data": {
            "text/plain": [
              "<Figure size 432x288 with 1 Axes>"
            ],
            "image/png": "[encoded data removed]"
          },
          "metadata": {
            "needs_background": "light"
          }
        }
      ]
    },
    {
      "cell_type": "markdown",
      "source": [
        "### Evaluating Accuracy"
      ],
      "metadata": {
        "id": "OqQArzd4V-Pf"
      }
    },
    {
      "cell_type": "code",
      "source": [
        "ann_metrics[['accuracy', 'val_accuracy']].plot()"
      ],
      "metadata": {
        "colab": {
          "base_uri": "https://localhost:8080/",
          "height": 282
        },
        "id": "yKNTV5Y9PvqF",
        "outputId": "7fa5592f-c954-4ea9-a2cb-3c5d4d9ff7d2"
      },
      "execution_count": null,
      "outputs": [
        {
          "output_type": "execute_result",
          "data": {
            "text/plain": [
              "<matplotlib.axes._subplots.AxesSubplot at 0x7fb376165d90>"
            ]
          },
          "metadata": {},
          "execution_count": 22
        },
        {
          "output_type": "display_data",
          "data": {
            "text/plain": [
              "<Figure size 432x288 with 1 Axes>"
            ],
            "image/png": "[encoded data removed]"
          },
          "metadata": {
            "needs_background": "light"
          }
        }
      ]
    },
    {
      "cell_type": "markdown",
      "source": [
        "The model has reached limit and would over fit on further epochs. Validation and train loss moving down togther is good indication"
      ],
      "metadata": {
        "id": "KyOlPXwVWC3L"
      }
    },
    {
      "cell_type": "code",
      "source": [
        "predictions = (model.predict(X_test) > 0.5).astype('int32')"
      ],
      "metadata": {
        "id": "0MSuYNpYP1UU"
      },
      "execution_count": null,
      "outputs": []
    },
    {
      "cell_type": "code",
      "source": [
        "print(classification_report(y_test_en, predictions))"
      ],
      "metadata": {
        "colab": {
          "base_uri": "https://localhost:8080/"
        },
        "id": "EITtH3MrQZU0",
        "outputId": "f49d8ccc-6edb-451a-ebf0-69c95fdd3974"
      },
      "execution_count": null,
      "outputs": [
        {
          "output_type": "stream",
          "name": "stdout",
          "text": [
            "              precision    recall  f1-score   support\n",
            "\n",
            "           0       0.86      0.74      0.79       461\n",
            "           1       0.74      0.86      0.79       397\n",
            "\n",
            "    accuracy                           0.79       858\n",
            "   macro avg       0.80      0.80      0.79       858\n",
            "weighted avg       0.80      0.79      0.79       858\n",
            "\n"
          ]
        }
      ]
    },
    {
      "cell_type": "code",
      "source": [
        "confusion_matrix(y_test_en, predictions)"
      ],
      "metadata": {
        "colab": {
          "base_uri": "https://localhost:8080/"
        },
        "id": "keDfkxckQrCe",
        "outputId": "f4d16a84-1580-499d-e129-b16f3a93b4e3"
      },
      "execution_count": null,
      "outputs": [
        {
          "output_type": "execute_result",
          "data": {
            "text/plain": [
              "array([[339, 122],\n",
              "       [ 55, 342]])"
            ]
          },
          "metadata": {},
          "execution_count": 25
        }
      ]
    },
    {
      "cell_type": "code",
      "source": [
        "accuracy_score(y_test_en, predictions)"
      ],
      "metadata": {
        "colab": {
          "base_uri": "https://localhost:8080/"
        },
        "id": "iP8hoIODQyie",
        "outputId": "db3dd6cf-8399-4665-f75e-74f736967ce1"
      },
      "execution_count": null,
      "outputs": [
        {
          "output_type": "execute_result",
          "data": {
            "text/plain": [
              "0.7937062937062938"
            ]
          },
          "metadata": {},
          "execution_count": 26
        }
      ]
    },
    {
      "cell_type": "code",
      "source": [
        "f1_score(y_test_en, predictions)"
      ],
      "metadata": {
        "colab": {
          "base_uri": "https://localhost:8080/"
        },
        "id": "HLCpuo_CSu5t",
        "outputId": "b16496c3-1150-4304-d98e-65dcf507c30b"
      },
      "execution_count": null,
      "outputs": [
        {
          "output_type": "execute_result",
          "data": {
            "text/plain": [
              "0.7944250871080138"
            ]
          },
          "metadata": {},
          "execution_count": 27
        }
      ]
    },
    {
      "cell_type": "markdown",
      "source": [
        "Just an initial model gave 79.37% accuracy and 79.44% f-1 score. Initial objectives completed."
      ],
      "metadata": {
        "id": "BxIO5n4eWTqL"
      }
    },
    {
      "cell_type": "markdown",
      "source": [
        "## Hyperparameter Tuning\n",
        "We use grid search with a sklearn wrapper of keras called scikeras"
      ],
      "metadata": {
        "id": "yZTcO5IAWlYr"
      }
    },
    {
      "cell_type": "code",
      "source": [
        "def create_model(neurons, dropout_rate, optimizer='adam'):\n",
        "\n",
        "\tmodel = Sequential()\n",
        "\tmodel.add(Dense(neurons, input_shape=(10,), activation='relu'))\n",
        "\tmodel.add(Dropout(dropout_rate))\n",
        "\tmodel.add(Dense(1, activation='sigmoid'))\n",
        " \n",
        "\tmodel.compile(loss='binary_crossentropy', optimizer=optimizer, metrics=['accuracy'])\n",
        "\treturn model"
      ],
      "metadata": {
        "id": "krVV2wGP5hYS"
      },
      "execution_count": null,
      "outputs": []
    },
    {
      "cell_type": "code",
      "source": [
        "optimizer = ['SGD', 'RMSprop', 'Adam']\n",
        "dropout_rate = [0.2, 0.3, 0.4, 0.5]\n",
        "neurons = [15, 20, 25, 30]\n",
        "\n",
        "param_grid = dict(model__optimizer=optimizer, model__dropout_rate=dropout_rate, \n",
        "                  model__neurons=neurons)"
      ],
      "metadata": {
        "id": "wcXtyxBc73RO"
      },
      "execution_count": null,
      "outputs": []
    },
    {
      "cell_type": "code",
      "source": [
        "model = KerasClassifier(model=create_model, epochs=100, batch_size=10, verbose=0)"
      ],
      "metadata": {
        "id": "VhfQZLfM9Tyo"
      },
      "execution_count": null,
      "outputs": []
    },
    {
      "cell_type": "code",
      "source": [
        "grid = GridSearchCV(estimator=model, param_grid=param_grid, n_jobs=-1, cv=3)\n",
        "grid_result = grid.fit(X, y_en)"
      ],
      "metadata": {
        "colab": {
          "base_uri": "https://localhost:8080/"
        },
        "id": "LggHPs4C9aPR",
        "outputId": "4c2723f9-c218-4e8f-b5fd-dcbb0482fff1"
      },
      "execution_count": null,
      "outputs": [
        {
          "output_type": "stream",
          "name": "stderr",
          "text": [
            "/usr/local/lib/python3.7/dist-packages/joblib/externals/loky/process_executor.py:705: UserWarning: A worker stopped while some jobs were given to the executor. This can be caused by a too short worker timeout or by a memory leak.\n",
            "  \"timeout or by a memory leak.\", UserWarning\n"
          ]
        }
      ]
    },
    {
      "cell_type": "code",
      "source": [
        "print(\"Best: %f using %s\" % (grid_result.best_score_, grid_result.best_params_))\n",
        "means = grid_result.cv_results_['mean_test_score']\n",
        "stds = grid_result.cv_results_['std_test_score']\n",
        "params = grid_result.cv_results_['params']\n",
        "for mean, stdev, param in zip(means, stds, params):\n",
        "    print(\"%f (%f) with: %r\" % (mean, stdev, param))"
      ],
      "metadata": {
        "colab": {
          "base_uri": "https://localhost:8080/"
        },
        "id": "mnP6IUd89iOb",
        "outputId": "63f877f8-73e3-4c06-8db1-036a1d54cb92"
      },
      "execution_count": null,
      "outputs": [
        {
          "output_type": "stream",
          "name": "stdout",
          "text": [
            "Best: 0.806158 using {'model__dropout_rate': 0.2, 'model__neurons': 25, 'model__optimizer': 'RMSprop'}\n",
            "0.731747 (0.013146) with: {'model__dropout_rate': 0.2, 'model__neurons': 15, 'model__optimizer': 'SGD'}\n",
            "0.796594 (0.005752) with: {'model__dropout_rate': 0.2, 'model__neurons': 15, 'model__optimizer': 'RMSprop'}\n",
            "0.798227 (0.006573) with: {'model__dropout_rate': 0.2, 'model__neurons': 15, 'model__optimizer': 'Adam'}\n",
            "0.748542 (0.006294) with: {'model__dropout_rate': 0.2, 'model__neurons': 20, 'model__optimizer': 'SGD'}\n",
            "0.798227 (0.009803) with: {'model__dropout_rate': 0.2, 'model__neurons': 20, 'model__optimizer': 'RMSprop'}\n",
            "0.801959 (0.009441) with: {'model__dropout_rate': 0.2, 'model__neurons': 20, 'model__optimizer': 'Adam'}\n",
            "0.756473 (0.012295) with: {'model__dropout_rate': 0.2, 'model__neurons': 25, 'model__optimizer': 'SGD'}\n",
            "0.806158 (0.005079) with: {'model__dropout_rate': 0.2, 'model__neurons': 25, 'model__optimizer': 'RMSprop'}\n",
            "0.801726 (0.008747) with: {'model__dropout_rate': 0.2, 'model__neurons': 25, 'model__optimizer': 'Adam'}\n",
            "0.716585 (0.027253) with: {'model__dropout_rate': 0.2, 'model__neurons': 30, 'model__optimizer': 'SGD'}\n",
            "0.801959 (0.004120) with: {'model__dropout_rate': 0.2, 'model__neurons': 30, 'model__optimizer': 'RMSprop'}\n",
            "0.796361 (0.006951) with: {'model__dropout_rate': 0.2, 'model__neurons': 30, 'model__optimizer': 'Adam'}\n",
            "0.737812 (0.033824) with: {'model__dropout_rate': 0.3, 'model__neurons': 15, 'model__optimizer': 'SGD'}\n",
            "0.793329 (0.013306) with: {'model__dropout_rate': 0.3, 'model__neurons': 15, 'model__optimizer': 'RMSprop'}\n",
            "0.793795 (0.010861) with: {'model__dropout_rate': 0.3, 'model__neurons': 15, 'model__optimizer': 'Adam'}\n",
            "0.749242 (0.042179) with: {'model__dropout_rate': 0.3, 'model__neurons': 20, 'model__optimizer': 'SGD'}\n",
            "0.797994 (0.008326) with: {'model__dropout_rate': 0.3, 'model__neurons': 20, 'model__optimizer': 'RMSprop'}\n",
            "0.798227 (0.007779) with: {'model__dropout_rate': 0.3, 'model__neurons': 20, 'model__optimizer': 'Adam'}\n",
            "0.742711 (0.016205) with: {'model__dropout_rate': 0.3, 'model__neurons': 25, 'model__optimizer': 'SGD'}\n",
            "0.792629 (0.012017) with: {'model__dropout_rate': 0.3, 'model__neurons': 25, 'model__optimizer': 'RMSprop'}\n",
            "0.796361 (0.008060) with: {'model__dropout_rate': 0.3, 'model__neurons': 25, 'model__optimizer': 'Adam'}\n",
            "0.722183 (0.020570) with: {'model__dropout_rate': 0.3, 'model__neurons': 30, 'model__optimizer': 'SGD'}\n",
            "0.795661 (0.008980) with: {'model__dropout_rate': 0.3, 'model__neurons': 30, 'model__optimizer': 'RMSprop'}\n",
            "0.801726 (0.011770) with: {'model__dropout_rate': 0.3, 'model__neurons': 30, 'model__optimizer': 'Adam'}\n",
            "0.713319 (0.010725) with: {'model__dropout_rate': 0.4, 'model__neurons': 15, 'model__optimizer': 'SGD'}\n",
            "0.792396 (0.010633) with: {'model__dropout_rate': 0.4, 'model__neurons': 15, 'model__optimizer': 'RMSprop'}\n",
            "0.785864 (0.009510) with: {'model__dropout_rate': 0.4, 'model__neurons': 15, 'model__optimizer': 'Adam'}\n",
            "0.756940 (0.011143) with: {'model__dropout_rate': 0.4, 'model__neurons': 20, 'model__optimizer': 'SGD'}\n",
            "0.793562 (0.004000) with: {'model__dropout_rate': 0.4, 'model__neurons': 20, 'model__optimizer': 'RMSprop'}\n",
            "0.785398 (0.006056) with: {'model__dropout_rate': 0.4, 'model__neurons': 20, 'model__optimizer': 'Adam'}\n",
            "0.727315 (0.018641) with: {'model__dropout_rate': 0.4, 'model__neurons': 25, 'model__optimizer': 'SGD'}\n",
            "0.792862 (0.010901) with: {'model__dropout_rate': 0.4, 'model__neurons': 25, 'model__optimizer': 'RMSprop'}\n",
            "0.794728 (0.011853) with: {'model__dropout_rate': 0.4, 'model__neurons': 25, 'model__optimizer': 'Adam'}\n",
            "0.747842 (0.017716) with: {'model__dropout_rate': 0.4, 'model__neurons': 30, 'model__optimizer': 'SGD'}\n",
            "0.801493 (0.006888) with: {'model__dropout_rate': 0.4, 'model__neurons': 30, 'model__optimizer': 'RMSprop'}\n",
            "0.797294 (0.009836) with: {'model__dropout_rate': 0.4, 'model__neurons': 30, 'model__optimizer': 'Adam'}\n",
            "0.721250 (0.039426) with: {'model__dropout_rate': 0.5, 'model__neurons': 15, 'model__optimizer': 'SGD'}\n",
            "0.787031 (0.001438) with: {'model__dropout_rate': 0.5, 'model__neurons': 15, 'model__optimizer': 'RMSprop'}\n",
            "0.778400 (0.013404) with: {'model__dropout_rate': 0.5, 'model__neurons': 15, 'model__optimizer': 'Adam'}\n",
            "0.668766 (0.048336) with: {'model__dropout_rate': 0.5, 'model__neurons': 20, 'model__optimizer': 'SGD'}\n",
            "0.781899 (0.011908) with: {'model__dropout_rate': 0.5, 'model__neurons': 20, 'model__optimizer': 'RMSprop'}\n",
            "0.783065 (0.018391) with: {'model__dropout_rate': 0.5, 'model__neurons': 20, 'model__optimizer': 'Adam'}\n",
            "0.649638 (0.019329) with: {'model__dropout_rate': 0.5, 'model__neurons': 25, 'model__optimizer': 'SGD'}\n",
            "0.789363 (0.011807) with: {'model__dropout_rate': 0.5, 'model__neurons': 25, 'model__optimizer': 'RMSprop'}\n",
            "0.793562 (0.011807) with: {'model__dropout_rate': 0.5, 'model__neurons': 25, 'model__optimizer': 'Adam'}\n",
            "0.703056 (0.049206) with: {'model__dropout_rate': 0.5, 'model__neurons': 30, 'model__optimizer': 'SGD'}\n",
            "0.790530 (0.011672) with: {'model__dropout_rate': 0.5, 'model__neurons': 30, 'model__optimizer': 'RMSprop'}\n",
            "0.791463 (0.008532) with: {'model__dropout_rate': 0.5, 'model__neurons': 30, 'model__optimizer': 'Adam'}\n"
          ]
        }
      ]
    },
    {
      "cell_type": "markdown",
      "source": [
        "We were able to improve accuracy upto 80%."
      ],
      "metadata": {
        "id": "9SzDYFmPSBg4"
      }
    }
  ]
}